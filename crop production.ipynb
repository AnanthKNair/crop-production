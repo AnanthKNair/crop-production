{
 "cells": [
  {
   "cell_type": "code",
   "execution_count": null,
   "id": "7b14ef3f-f1a0-42c9-aac4-464870a35efa",
   "metadata": {
    "tags": []
   },
   "outputs": [],
   "source": [
    "import pandas as pd\n",
    "import matplotlib.pyplot as plt\n",
    "import seaborn as sns\n",
    "import numpy as np\n",
    "import warnings\n",
    "\n",
    "import sklearn"
   ]
  },
  {
   "cell_type": "code",
   "execution_count": null,
   "id": "1e60f0de-ba3b-4e3a-8eff-b187f15bccfc",
   "metadata": {
    "tags": []
   },
   "outputs": [],
   "source": [
    "df = pd.read_csv('./Downloads/crop_production.csv')"
   ]
  },
  {
   "cell_type": "code",
   "execution_count": null,
   "id": "eebd4b37-69d3-4e3c-a6ac-cef38730581c",
   "metadata": {
    "tags": []
   },
   "outputs": [],
   "source": [
    "df.isna().sum()"
   ]
  },
  {
   "cell_type": "code",
   "execution_count": null,
   "id": "b9e50dcf-034d-44fe-96e6-9a2b9cade268",
   "metadata": {
    "tags": []
   },
   "outputs": [],
   "source": [
    "df['Production']=df['Production'].fillna(df['Production'].mean())"
   ]
  },
  {
   "cell_type": "code",
   "execution_count": null,
   "id": "23269f41-149c-4185-875d-734ae12797e3",
   "metadata": {
    "tags": []
   },
   "outputs": [],
   "source": [
    "sns.lineplot(x=df[\"Crop_Year\"], y=df[\"Production\"])"
   ]
  },
  {
   "cell_type": "code",
   "execution_count": null,
   "id": "4bc281ad-cbb5-40da-adbb-bea2a741a7c3",
   "metadata": {
    "tags": []
   },
   "outputs": [],
   "source": [
    "sns.barplot(x=df[\"Season\"],y=df[\"Production\"])"
   ]
  },
  {
   "cell_type": "code",
   "execution_count": null,
   "id": "360ec9b6-9ee1-4ae2-aef6-a592de00dfd1",
   "metadata": {
    "tags": []
   },
   "outputs": [],
   "source": [
    "df.drop([\"index\", \"District_Name\"], axis=1, inplace=True)"
   ]
  },
  {
   "cell_type": "code",
   "execution_count": null,
   "id": "f7630feb-ac36-4af7-90bd-8c221c7e9f47",
   "metadata": {
    "tags": []
   },
   "outputs": [],
   "source": [
    "dum = pd.get_dummies(df)\n",
    "dum[:10]"
   ]
  },
  {
   "cell_type": "code",
   "execution_count": null,
   "id": "0185c03c-4b2b-4ff2-b34c-8fa40adfeae4",
   "metadata": {
    "tags": []
   },
   "outputs": [],
   "source": [
    "x=dum.drop(['Production'],axis=1)\n",
    "y=dum[['Production']].values.ravel()"
   ]
  },
  {
   "cell_type": "code",
   "execution_count": null,
   "id": "bd821260-f2f8-454b-82ce-f878c40c794f",
   "metadata": {
    "tags": []
   },
   "outputs": [],
   "source": [
    "from sklearn.preprocessing import StandardScaler\n"
   ]
  },
  {
   "cell_type": "code",
   "execution_count": null,
   "id": "8736abe3-2817-4ec0-b35e-13dc9736900f",
   "metadata": {
    "tags": []
   },
   "outputs": [],
   "source": [
    "sc = StandardScaler()"
   ]
  },
  {
   "cell_type": "code",
   "execution_count": null,
   "id": "0583529e-7275-4732-95e9-230bb02f7698",
   "metadata": {
    "tags": []
   },
   "outputs": [],
   "source": [
    "\n",
    "X=sc.fit_transform(x)\n"
   ]
  },
  {
   "cell_type": "code",
   "execution_count": null,
   "id": "599d5c4f-c94e-4624-8e9c-099c3b8a525e",
   "metadata": {
    "tags": []
   },
   "outputs": [],
   "source": [
    "from sklearn.model_selection import train_test_split\n",
    "X_train,X_test,y_train,y_test=train_test_split(X,y,test_size=0.3,random_state=1)"
   ]
  },
  {
   "cell_type": "code",
   "execution_count": null,
   "id": "1aa201b1-7376-440f-a291-fc57d2b5da2a",
   "metadata": {
    "tags": []
   },
   "outputs": [],
   "source": [
    "from sklearn.ensemble import RandomForestRegressor"
   ]
  },
  {
   "cell_type": "code",
   "execution_count": null,
   "id": "7c12a71d-2840-4aea-9b2e-f0f613878062",
   "metadata": {
    "tags": []
   },
   "outputs": [],
   "source": [
    "rf=RandomForestRegressor()\n",
    "rf.fit(X_train,y_train)\n",
    "y_pred=rf.predict(X_test)\n",
    "y_pred"
   ]
  }
 ],
 "metadata": {
  "kernelspec": {
   "display_name": "Python 3 (ipykernel)",
   "language": "python",
   "name": "python3"
  },
  "language_info": {
   "codemirror_mode": {
    "name": "ipython",
    "version": 3
   },
   "file_extension": ".py",
   "mimetype": "text/x-python",
   "name": "python",
   "nbconvert_exporter": "python",
   "pygments_lexer": "ipython3",
   "version": "3.10.6"
  }
 },
 "nbformat": 4,
 "nbformat_minor": 5
}
